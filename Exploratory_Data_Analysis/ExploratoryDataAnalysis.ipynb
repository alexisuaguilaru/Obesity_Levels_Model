{
 "cells": [
  {
   "cell_type": "markdown",
   "metadata": {},
   "source": [
    "# Introduction"
   ]
  },
  {
   "cell_type": "markdown",
   "metadata": {},
   "source": [
    "The EDA aims to explore the model's performance and accuracy in specific scenarios and to determine a preliminar grade of fidelity in its estimation."
   ]
  },
  {
   "cell_type": "markdown",
   "metadata": {},
   "source": [
    "# Import Libraries"
   ]
  },
  {
   "cell_type": "code",
   "execution_count": 105,
   "metadata": {},
   "outputs": [],
   "source": [
    "# Importing libraries\n",
    "import pandas as pd\n",
    "\n",
    "import seaborn as sns\n",
    "import matplotlib.pyplot as plt \n",
    "from sklearn.preprocessing import LabelBinarizer , LabelEncoder"
   ]
  },
  {
   "cell_type": "markdown",
   "metadata": {},
   "source": [
    "# Data Cleaning and Treating [Part I]"
   ]
  },
  {
   "cell_type": "markdown",
   "metadata": {},
   "source": [
    "The dataset was loaded and its string features were converted to categorical data type and encoded to numerical values. It was not necessary to drop null values or deal with missing values. "
   ]
  },
  {
   "cell_type": "code",
   "execution_count": 221,
   "metadata": {},
   "outputs": [],
   "source": [
    "# Loading [raw] dataset\n",
    "ObesityDataset_Raw = pd.read_csv('ObesityDataset_Raw.csv')"
   ]
  },
  {
   "cell_type": "code",
   "execution_count": 222,
   "metadata": {},
   "outputs": [],
   "source": [
    "# Getting categorical and numerical features\n",
    "CategoricalFeatures = []\n",
    "NumbericalFeatures = []\n",
    "\n",
    "for label in ObesityDataset_Raw.columns:\n",
    "    if ObesityDataset_Raw[label].dtype == 'object':\n",
    "        CategoricalFeatures.append(label)\n",
    "    else:\n",
    "        NumbericalFeatures.append(label)"
   ]
  },
  {
   "cell_type": "code",
   "execution_count": 223,
   "metadata": {},
   "outputs": [],
   "source": [
    "# Capitalizing values of categorical features\n",
    "def CapitalizeIfNecessary(value):\n",
    "    if value == 'no' or value == 'yes':\n",
    "        return value.capitalize()\n",
    "    else:\n",
    "        return value\n",
    "\n",
    "ObesityDataset_Raw[CategoricalFeatures] = ObesityDataset_Raw[CategoricalFeatures].map(CapitalizeIfNecessary)"
   ]
  },
  {
   "cell_type": "code",
   "execution_count": 224,
   "metadata": {},
   "outputs": [],
   "source": [
    "# Transforming categorical features' data type into categorical data type\n",
    "ObesityDataset_Raw[CategoricalFeatures] = ObesityDataset_Raw[CategoricalFeatures].astype('category')"
   ]
  },
  {
   "cell_type": "code",
   "execution_count": 231,
   "metadata": {},
   "outputs": [],
   "source": [
    "# Encoding categorical features into numerical features\n",
    "\n",
    "## Feature NObeyesdad\n",
    "OrderedCategories_NObeyesdad = ['Insufficient_Weight', 'Normal_Weight', 'Overweight_Level_I', 'Overweight_Level_II', 'Obesity_Type_I', 'Obesity_Type_II', 'Obesity_Type_III']\n",
    "Encoder_NObeyesdad = {category:value for value , category in enumerate(OrderedCategories_NObeyesdad)}\n",
    "ObesityDataset_Raw['NObeyesdad_Encode'] = ObesityDataset_Raw['NObeyesdad'].map(Encoder_NObeyesdad)\n",
    "\n",
    "## Feature Gender\n",
    "Values_Gender = ['Female', 'Male']\n",
    "Encoder_Gender = {category:value for value , category in enumerate(Values_Gender)}\n",
    "ObesityDataset_Raw['Gender_Encode'] = ObesityDataset_Raw['Gender'].map(Encoder_Gender)\n",
    "\n",
    "## Other features\n",
    "Values_Binary = ['Yes','No']\n",
    "__Encoder_Binary = LabelBinarizer().fit(Values_Binary)\n",
    "Encoder_Binary = lambda value: __Encoder_Binary.transform([value])[0,0]\n",
    "\n",
    "for feature in CategoricalFeatures:\n",
    "    if feature != 'Gender' and feature != 'NObeyesdad':\n",
    "        if len(ObesityDataset_Raw[feature].unique()) > 2:\n",
    "            ObesityDataset_Raw[feature+'_Encode'] = pd.DataFrame(LabelEncoder().fit_transform(ObesityDataset_Raw[feature]))\n",
    "        else:\n",
    "            ObesityDataset_Raw[feature+'_Encode'] = ObesityDataset_Raw[feature].map(Encoder_Binary)"
   ]
  },
  {
   "cell_type": "code",
   "execution_count": 227,
   "metadata": {},
   "outputs": [],
   "source": [
    "# Getting encoded categorical features\n",
    "CategoricalFeatures_Encode = [feature+'_Encode' for feature in CategoricalFeatures]"
   ]
  },
  {
   "cell_type": "markdown",
   "metadata": {},
   "source": [
    "# Data Visualization and Analysis"
   ]
  },
  {
   "cell_type": "markdown",
   "metadata": {},
   "source": [
    "Because of the physical condition (insufficient weight, normal weight, overweight and obesity) is strongly related to the height, weight, gender and age of someone, hence these features become relevant for the model."
   ]
  },
  {
   "cell_type": "code",
   "execution_count": null,
   "metadata": {},
   "outputs": [],
   "source": [
    "ObesityLevelOrder = ['Insufficient_Weight','Normal_Weight','Overweight_Level_I','Overweight_Level_II','Obesity_Type_I','Obesity_Type_II','Obesity_Type_III']\n",
    "\n",
    "sns.lmplot(data=ObesityDataset_Raw,x='Height',y='Weight',hue='NObeyesdad',col='Gender',hue_order=ObesityLevelOrder,palette='Set2',ci=None)"
   ]
  },
  {
   "cell_type": "markdown",
   "metadata": {},
   "source": [
    "The before plot shows this strong relation and also show that there are not enough data points (samples) in some categories of obesity level - gender. Therefore in some scenarios the model will have a poor estimation quality."
   ]
  },
  {
   "cell_type": "code",
   "execution_count": null,
   "metadata": {},
   "outputs": [],
   "source": [
    "ObesityDataset_Raw.groupby(by=['NObeyesdad','Gender'],observed=True)['Age'].describe()"
   ]
  }
 ],
 "metadata": {
  "kernelspec": {
   "display_name": "data_projects",
   "language": "python",
   "name": "python3"
  },
  "language_info": {
   "codemirror_mode": {
    "name": "ipython",
    "version": 3
   },
   "file_extension": ".py",
   "mimetype": "text/x-python",
   "name": "python",
   "nbconvert_exporter": "python",
   "pygments_lexer": "ipython3",
   "version": "3.12.5"
  }
 },
 "nbformat": 4,
 "nbformat_minor": 2
}
