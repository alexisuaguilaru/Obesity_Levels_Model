{
 "cells": [
  {
   "cell_type": "markdown",
   "metadata": {},
   "source": [
    "# Introduction"
   ]
  },
  {
   "cell_type": "markdown",
   "metadata": {},
   "source": [
    "The EDA aims to explore the performance and accuracy in specific scenarios and to determine a preliminar grade of fidelity in its estimation."
   ]
  },
  {
   "cell_type": "markdown",
   "metadata": {},
   "source": [
    "# Import Libraries"
   ]
  },
  {
   "cell_type": "code",
   "execution_count": null,
   "metadata": {},
   "outputs": [],
   "source": [
    "# Importing libraries\n",
    "import pandas as pd\n",
    "\n",
    "import seaborn as sns\n",
    "import matplotlib.pyplot as plt "
   ]
  },
  {
   "cell_type": "markdown",
   "metadata": {},
   "source": [
    "# Data Cleaning"
   ]
  },
  {
   "cell_type": "markdown",
   "metadata": {},
   "source": [
    "The dataset was loaded and its string features were converted to categorical data type. It was not necessary to drop null values or deal with missing values."
   ]
  },
  {
   "cell_type": "code",
   "execution_count": 90,
   "metadata": {},
   "outputs": [],
   "source": [
    "# Loading [raw] dataset\n",
    "ObesityDataset_Raw = pd.read_csv('ObesityDataset_Raw.csv')"
   ]
  },
  {
   "cell_type": "code",
   "execution_count": null,
   "metadata": {},
   "outputs": [],
   "source": [
    "# Getting categorical and numerical labels\n",
    "CategoricalLabels_ObesityDataset = []\n",
    "NumbericalLabels_ObesityDataset = []\n",
    "\n",
    "for label in ObesityDataset_Raw.columns:\n",
    "    if ObesityDataset_Raw[label].dtype == 'object':\n",
    "        CategoricalLabels_ObesityDataset.append(label)\n",
    "    else:\n",
    "        NumbericalLabels_ObesityDataset.append(label)"
   ]
  },
  {
   "cell_type": "code",
   "execution_count": null,
   "metadata": {},
   "outputs": [],
   "source": [
    "# Capitalizing values of categorical labels\n",
    "def CapitalizeIfNecessary(value):\n",
    "    if value == 'no' or value == 'yes':\n",
    "        return value.capitalize()\n",
    "    else:\n",
    "        return value\n",
    "\n",
    "ObesityDataset_Raw[CategoricalLabels_ObesityDataset] = ObesityDataset_Raw[CategoricalLabels_ObesityDataset].map(CapitalizeIfNecessary)"
   ]
  },
  {
   "cell_type": "code",
   "execution_count": 93,
   "metadata": {},
   "outputs": [],
   "source": [
    "# Transforming categorical labels into categorical data types \n",
    "ObesityDataset_Raw[CategoricalLabels_ObesityDataset] = ObesityDataset_Raw[CategoricalLabels_ObesityDataset].astype('category')"
   ]
  }
 ],
 "metadata": {
  "kernelspec": {
   "display_name": "data_projects",
   "language": "python",
   "name": "python3"
  },
  "language_info": {
   "codemirror_mode": {
    "name": "ipython",
    "version": 3
   },
   "file_extension": ".py",
   "mimetype": "text/x-python",
   "name": "python",
   "nbconvert_exporter": "python",
   "pygments_lexer": "ipython3",
   "version": "3.12.5"
  }
 },
 "nbformat": 4,
 "nbformat_minor": 2
}
