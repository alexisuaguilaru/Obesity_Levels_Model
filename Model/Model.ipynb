{
 "cells": [
  {
   "cell_type": "markdown",
   "metadata": {},
   "source": [
    "# Import Libraries"
   ]
  },
  {
   "cell_type": "code",
   "execution_count": 14,
   "metadata": {},
   "outputs": [],
   "source": [
    "# Importing libraries\n",
    "import pandas as pd\n",
    "\n",
    "from sklearn.pipeline import Pipeline\n",
    "from sklearn.preprocessing import QuantileTransformer\n",
    "from sklearn.feature_selection import SelectPercentile , mutual_info_classif"
   ]
  },
  {
   "cell_type": "code",
   "execution_count": 3,
   "metadata": {},
   "outputs": [],
   "source": [
    "with open('Labels_TargetFeatures.txt') as LabelsName:\n",
    "    Target = LabelsName.readline().strip()\n",
    "    Features = LabelsName.readline().split()"
   ]
  },
  {
   "cell_type": "markdown",
   "metadata": {},
   "source": [
    "# Sub-Model for Dataset by Groups"
   ]
  },
  {
   "cell_type": "code",
   "execution_count": 5,
   "metadata": {},
   "outputs": [],
   "source": [
    "# Loading Dataset\n",
    "ObesityDataset_Groups = pd.read_csv('../Exploratory_Data_Analysis/ObesityLevel_Groups.csv',index_col=0)\n",
    "X_features_groups = ObesityDataset_Groups[Features].to_numpy()\n",
    "y_target_groups = ObesityDataset_Groups[Target].to_numpy()"
   ]
  },
  {
   "cell_type": "code",
   "execution_count": null,
   "metadata": {},
   "outputs": [],
   "source": [
    "ScoreFunction_MutualInformation = lambda X,y : mutual_info_classif(X,y,n_neighbors=16)\n",
    "\n",
    "# Model\n",
    "Pipeline(steps=[('Normalization',QuantileTransformer(output_distribution='normal'))\n",
    "                ('Feature_Selection',SelectPercentile(ScoreFunction_MutualInformation,percentile=50))])"
   ]
  },
  {
   "cell_type": "code",
   "execution_count": null,
   "metadata": {},
   "outputs": [
    {
     "data": {
      "text/plain": [
       "array(['x0', 'x1', 'x2', 'x4', 'x5', 'x6', 'x9', 'x11'], dtype=object)"
      ]
     },
     "execution_count": 6,
     "metadata": {},
     "output_type": "execute_result"
    }
   ],
   "source": [
    "# Experimental Phase\n",
    "\n",
    "## Normal Transformation\n",
    "X = QuantileTransformer(output_distribution='normal').fit_transform(X_features_groups)\n",
    "\n",
    "## Feature Selection\n",
    "ScoreFunction_MutualInformation = lambda X,y : mutual_info_classif(X,y,n_neighbors=16)\n",
    "Model_Features = SelectPercentile(ScoreFunction_MutualInformation,percentile=50)\n",
    "X_new = Model_Features.fit_transform(X,y_target_groups)\n",
    "\n",
    "## Clustering with K-Means\n",
    "\n",
    "## Clustering with Affinity Propagation\n",
    "\n",
    "## Clustering with Spectral Clustering"
   ]
  }
 ],
 "metadata": {
  "kernelspec": {
   "display_name": "data_projects",
   "language": "python",
   "name": "python3"
  },
  "language_info": {
   "codemirror_mode": {
    "name": "ipython",
    "version": 3
   },
   "file_extension": ".py",
   "mimetype": "text/x-python",
   "name": "python",
   "nbconvert_exporter": "python",
   "pygments_lexer": "ipython3",
   "version": "3.12.5"
  }
 },
 "nbformat": 4,
 "nbformat_minor": 2
}
